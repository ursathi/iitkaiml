{
 "cells": [
  {
   "cell_type": "code",
   "execution_count": 4,
   "metadata": {
    "colab": {
     "base_uri": "https://localhost:8080/"
    },
    "executionInfo": {
     "elapsed": 1669,
     "status": "ok",
     "timestamp": 1750797948644,
     "user": {
      "displayName": "Athi SHUNMUGAM",
      "userId": "07971767029142392915"
     },
     "user_tz": -330
    },
    "id": "iHXjMiKLlEx0",
    "outputId": "eaa042e2-c71a-4320-e294-85070635cf76"
   },
   "outputs": [
    {
     "name": "stdout",
     "output_type": "stream",
     "text": [
      "Drive already mounted at /content/drive; to attempt to forcibly remount, call drive.mount(\"/content/drive\", force_remount=True).\n",
      "TensorFlow Version: 2.18.0\n"
     ]
    }
   ],
   "source": [
    "# ==============================================================================\n",
    "# 1. SETUP AND IMPORTS\n",
    "# ==============================================================================\n",
    "import os\n",
    "import re\n",
    "import numpy as np\n",
    "import pandas as pd\n",
    "import tensorflow as tf\n",
    "from tensorflow.keras.preprocessing.text import Tokenizer\n",
    "from tensorflow.keras.preprocessing.sequence import pad_sequences\n",
    "from tensorflow.keras.layers import Input, Embedding, Bidirectional, LSTM, Dense, Dropout\n",
    "from tensorflow.keras.models import Model\n",
    "from tensorflow.keras.callbacks import EarlyStopping\n",
    "from sklearn.model_selection import train_test_split\n",
    "from sklearn.metrics import classification_report, confusion_matrix, accuracy_score\n",
    "import matplotlib.pyplot as plt\n",
    "import seaborn as sns\n",
    "\n",
    "# Mount Google Drive to access files\n",
    "from google.colab import drive\n",
    "drive.mount('/content/drive')\n",
    "\n",
    "print(\"TensorFlow Version:\", tf.__version__)\n",
    "\n",
    "\n"
   ]
  },
  {
   "cell_type": "code",
   "execution_count": 5,
   "metadata": {
    "executionInfo": {
     "elapsed": 8,
     "status": "ok",
     "timestamp": 1750797952895,
     "user": {
      "displayName": "Athi SHUNMUGAM",
      "userId": "07971767029142392915"
     },
     "user_tz": -330
    },
    "id": "Vtb_ZKNyoxYy"
   },
   "outputs": [],
   "source": [
    "# ==============================================================================\n",
    "# 2. CONFIGURATION\n",
    "# ==============================================================================\n",
    "# File paths in Google Drive\n",
    "BASE_PATH = '/content/drive/My Drive/Colab Notebooks/quora_spam_detection/'\n",
    "TRAIN_DATA_FILE = os.path.join(BASE_PATH, 'train.csv')\n",
    "GLOVE_EMBEDDING_FILE = os.path.join(BASE_PATH, 'glove.6B.100d.txt')\n",
    "\n",
    "# Model and Tokenizer parameters\n",
    "MAX_NUM_WORDS = 20000      # Max vocabulary size\n",
    "MAX_SEQUENCE_LENGTH = 100  # Max length for a question\n",
    "EMBEDDING_DIM = 100        # Dimension of GloVe embeddings (must match the file)\n",
    "VALIDATION_SPLIT = 0.2     # 20% of data for validation\n",
    "BATCH_SIZE = 256\n",
    "EPOCHS = 10"
   ]
  },
  {
   "cell_type": "code",
   "execution_count": 6,
   "metadata": {
    "colab": {
     "base_uri": "https://localhost:8080/"
    },
    "executionInfo": {
     "elapsed": 2556,
     "status": "ok",
     "timestamp": 1750797961557,
     "user": {
      "displayName": "Athi SHUNMUGAM",
      "userId": "07971767029142392915"
     },
     "user_tz": -330
    },
    "id": "nWFc-0ffmbcw",
    "outputId": "1c2178ac-a9bc-41cc-dcc3-50962d8c8fae"
   },
   "outputs": [
    {
     "name": "stdout",
     "output_type": "stream",
     "text": [
      "\n",
      "Loading and preprocessing data...\n",
      "Loaded 1306122 questions.\n",
      "Sample of the data:\n",
      "                    qid                                      question_text  \\\n",
      "0  00002165364db923c7e6  How did Quebec nationalists see their province...   \n",
      "1  000032939017120e6e44  Do you have an adopted dog, how would you enco...   \n",
      "2  0000412ca6e4628ce2cf  Why does velocity affect time? Does velocity a...   \n",
      "3  000042bf85aa498cd78e  How did Otto von Guericke used the Magdeburg h...   \n",
      "4  0000455dfa3e01eae3af  Can I convert montra helicon D to a mountain b...   \n",
      "\n",
      "   target  \n",
      "0       0  \n",
      "1       0  \n",
      "2       0  \n",
      "3       0  \n",
      "4       0  \n",
      "\n",
      "Class distribution:\n",
      "target\n",
      "0    0.93813\n",
      "1    0.06187\n",
      "Name: proportion, dtype: float64\n"
     ]
    }
   ],
   "source": [
    "# ==============================================================================\n",
    "# 3. DATA LOADING AND PREPROCESSING\n",
    "# ==============================================================================\n",
    "print(\"\\nLoading and preprocessing data...\")\n",
    "\n",
    "# Load the training data\n",
    "df = pd.read_csv(TRAIN_DATA_FILE)\n",
    "\n",
    "print(f\"Loaded {len(df)} questions.\")\n",
    "print(\"Sample of the data:\")\n",
    "print(df.head())\n",
    "print(\"\\nClass distribution:\")\n",
    "print(df['target'].value_counts(normalize=True))"
   ]
  },
  {
   "cell_type": "code",
   "execution_count": 7,
   "metadata": {
    "executionInfo": {
     "elapsed": 4039,
     "status": "ok",
     "timestamp": 1750797972094,
     "user": {
      "displayName": "Athi SHUNMUGAM",
      "userId": "07971767029142392915"
     },
     "user_tz": -330
    },
    "id": "0tE1GfW_nENJ"
   },
   "outputs": [],
   "source": [
    "\n",
    "# Clean the text\n",
    "def clean_text(text):\n",
    "    text = text.lower()\n",
    "    text = re.sub(r\"[^a-z0-9\\s]\", \"\", text) # Keep only alphanumeric and spaces\n",
    "    return text\n",
    "\n",
    "df['question_text'] = df['question_text'].apply(clean_text)\n",
    "\n"
   ]
  },
  {
   "cell_type": "code",
   "execution_count": 8,
   "metadata": {
    "colab": {
     "base_uri": "https://localhost:8080/"
    },
    "executionInfo": {
     "elapsed": 37723,
     "status": "ok",
     "timestamp": 1750798012666,
     "user": {
      "displayName": "Athi SHUNMUGAM",
      "userId": "07971767029142392915"
     },
     "user_tz": -330
    },
    "id": "oLT8bW8Aq8vk",
    "outputId": "f269bec2-5a9e-4e07-9afc-0b98feeecad1"
   },
   "outputs": [
    {
     "name": "stdout",
     "output_type": "stream",
     "text": [
      "Found 247247 unique tokens.\n",
      "Shape of data tensor: (1306122, 100)\n",
      "Shape of labels tensor: (1306122,)\n"
     ]
    }
   ],
   "source": [
    "# Prepare texts and labels\n",
    "texts = df['question_text'].values\n",
    "labels = df['target'].values\n",
    "\n",
    "# Tokenize the text\n",
    "tokenizer = Tokenizer(num_words=MAX_NUM_WORDS)\n",
    "tokenizer.fit_on_texts(texts)\n",
    "sequences = tokenizer.texts_to_sequences(texts)\n",
    "\n",
    "word_index = tokenizer.word_index\n",
    "print(f\"Found {len(word_index)} unique tokens.\")\n",
    "\n",
    "# Pad sequences to a fixed length\n",
    "data = pad_sequences(sequences, maxlen=MAX_SEQUENCE_LENGTH)\n",
    "\n",
    "print(\"Shape of data tensor:\", data.shape)\n",
    "print(\"Shape of labels tensor:\", labels.shape)\n",
    "\n"
   ]
  },
  {
   "cell_type": "code",
   "execution_count": 9,
   "metadata": {
    "colab": {
     "base_uri": "https://localhost:8080/"
    },
    "executionInfo": {
     "elapsed": 12390,
     "status": "ok",
     "timestamp": 1750798033296,
     "user": {
      "displayName": "Athi SHUNMUGAM",
      "userId": "07971767029142392915"
     },
     "user_tz": -330
    },
    "id": "OE_CHyLLrFIo",
    "outputId": "8110d0d6-cb51-4c94-c4aa-ced9283d8ae6"
   },
   "outputs": [
    {
     "name": "stdout",
     "output_type": "stream",
     "text": [
      "\n",
      "Loading GloVe embeddings and building embedding matrix...\n",
      "Found 400000 word vectors in GloVe.\n",
      "Embedding matrix created with shape: (20000, 100)\n"
     ]
    }
   ],
   "source": [
    "# ==============================================================================\n",
    "# 4. PREPARE GLOVE EMBEDDING MATRIX\n",
    "# ==============================================================================\n",
    "print(\"\\nLoading GloVe embeddings and building embedding matrix...\")\n",
    "\n",
    "embeddings_index = {}\n",
    "try:\n",
    "    with open(GLOVE_EMBEDDING_FILE, encoding='utf-8') as f:\n",
    "        for line in f:\n",
    "            values = line.split()\n",
    "            word = values[0]\n",
    "            coefs = np.asarray(values[1:], dtype='float32')\n",
    "            embeddings_index[word] = coefs\n",
    "except FileNotFoundError:\n",
    "    print(f\"Error: GloVe file not found at {GLOVE_EMBEDDING_FILE}\")\n",
    "    print(\"Please ensure the file path is correct and you have mounted Google Drive.\")\n",
    "    # Exit gracefully if file is not found\n",
    "    exit()\n",
    "\n",
    "\n",
    "print(f\"Found {len(embeddings_index)} word vectors in GloVe.\")\n",
    "\n",
    "# Create the embedding matrix\n",
    "num_words = min(MAX_NUM_WORDS, len(word_index) + 1)\n",
    "embedding_matrix = np.zeros((num_words, EMBEDDING_DIM))\n",
    "\n",
    "for word, i in word_index.items():\n",
    "    if i >= MAX_NUM_WORDS:\n",
    "        continue\n",
    "    embedding_vector = embeddings_index.get(word)\n",
    "    if embedding_vector is not None:\n",
    "        # Words not found in embedding index will be all-zeros.\n",
    "        embedding_matrix[i] = embedding_vector\n",
    "\n",
    "print(f\"Embedding matrix created with shape: {embedding_matrix.shape}\")\n",
    "\n"
   ]
  },
  {
   "cell_type": "code",
   "execution_count": 10,
   "metadata": {
    "colab": {
     "base_uri": "https://localhost:8080/"
    },
    "executionInfo": {
     "elapsed": 751,
     "status": "ok",
     "timestamp": 1750798042625,
     "user": {
      "displayName": "Athi SHUNMUGAM",
      "userId": "07971767029142392915"
     },
     "user_tz": -330
    },
    "id": "NXkizdkrrJim",
    "outputId": "8f70255c-e056-4f59-f66a-ff836c1be4b8"
   },
   "outputs": [
    {
     "name": "stdout",
     "output_type": "stream",
     "text": [
      "\n",
      "Training data shape: (1044897, 100)\n",
      "Validation data shape: (261225, 100)\n"
     ]
    }
   ],
   "source": [
    "# ==============================================================================\n",
    "# 5. CREATE TRAIN/VALIDATION SPLIT\n",
    "# ==============================================================================\n",
    "# As per guidelines, create our own split\n",
    "X_train, X_val, y_train, y_val = train_test_split(\n",
    "    data,\n",
    "    labels,\n",
    "    test_size=VALIDATION_SPLIT,\n",
    "    random_state=42,\n",
    "    stratify=labels # Ensure same class distribution in train and val sets\n",
    ")\n",
    "\n",
    "print(f\"\\nTraining data shape: {X_train.shape}\")\n",
    "print(f\"Validation data shape: {X_val.shape}\")\n",
    "\n"
   ]
  },
  {
   "cell_type": "code",
   "execution_count": 11,
   "metadata": {
    "colab": {
     "base_uri": "https://localhost:8080/",
     "height": 465
    },
    "executionInfo": {
     "elapsed": 3214,
     "status": "ok",
     "timestamp": 1750798059939,
     "user": {
      "displayName": "Athi SHUNMUGAM",
      "userId": "07971767029142392915"
     },
     "user_tz": -330
    },
    "id": "w--aIkSMrMQc",
    "outputId": "7057b7f4-b17e-4787-c7ba-09bb0753a3c2"
   },
   "outputs": [
    {
     "name": "stdout",
     "output_type": "stream",
     "text": [
      "\n",
      "Building the model...\n"
     ]
    },
    {
     "name": "stderr",
     "output_type": "stream",
     "text": [
      "/usr/local/lib/python3.11/dist-packages/keras/src/layers/core/embedding.py:90: UserWarning: Argument `input_length` is deprecated. Just remove it.\n",
      "  warnings.warn(\n"
     ]
    },
    {
     "data": {
      "text/html": [
       "<pre style=\"white-space:pre;overflow-x:auto;line-height:normal;font-family:Menlo,'DejaVu Sans Mono',consolas,'Courier New',monospace\"><span style=\"font-weight: bold\">Model: \"functional\"</span>\n",
       "</pre>\n"
      ],
      "text/plain": [
       "\u001b[1mModel: \"functional\"\u001b[0m\n"
      ]
     },
     "metadata": {},
     "output_type": "display_data"
    },
    {
     "data": {
      "text/html": [
       "<pre style=\"white-space:pre;overflow-x:auto;line-height:normal;font-family:Menlo,'DejaVu Sans Mono',consolas,'Courier New',monospace\">┏━━━━━━━━━━━━━━━━━━━━━━━━━━━━━━━━━┳━━━━━━━━━━━━━━━━━━━━━━━━┳━━━━━━━━━━━━━━━┓\n",
       "┃<span style=\"font-weight: bold\"> Layer (type)                    </span>┃<span style=\"font-weight: bold\"> Output Shape           </span>┃<span style=\"font-weight: bold\">       Param # </span>┃\n",
       "┡━━━━━━━━━━━━━━━━━━━━━━━━━━━━━━━━━╇━━━━━━━━━━━━━━━━━━━━━━━━╇━━━━━━━━━━━━━━━┩\n",
       "│ input_layer (<span style=\"color: #0087ff; text-decoration-color: #0087ff\">InputLayer</span>)        │ (<span style=\"color: #00d7ff; text-decoration-color: #00d7ff\">None</span>, <span style=\"color: #00af00; text-decoration-color: #00af00\">100</span>)            │             <span style=\"color: #00af00; text-decoration-color: #00af00\">0</span> │\n",
       "├─────────────────────────────────┼────────────────────────┼───────────────┤\n",
       "│ embedding (<span style=\"color: #0087ff; text-decoration-color: #0087ff\">Embedding</span>)           │ (<span style=\"color: #00d7ff; text-decoration-color: #00d7ff\">None</span>, <span style=\"color: #00af00; text-decoration-color: #00af00\">100</span>, <span style=\"color: #00af00; text-decoration-color: #00af00\">100</span>)       │     <span style=\"color: #00af00; text-decoration-color: #00af00\">2,000,000</span> │\n",
       "├─────────────────────────────────┼────────────────────────┼───────────────┤\n",
       "│ bidirectional (<span style=\"color: #0087ff; text-decoration-color: #0087ff\">Bidirectional</span>)   │ (<span style=\"color: #00d7ff; text-decoration-color: #00d7ff\">None</span>, <span style=\"color: #00af00; text-decoration-color: #00af00\">100</span>, <span style=\"color: #00af00; text-decoration-color: #00af00\">256</span>)       │       <span style=\"color: #00af00; text-decoration-color: #00af00\">234,496</span> │\n",
       "├─────────────────────────────────┼────────────────────────┼───────────────┤\n",
       "│ bidirectional_1 (<span style=\"color: #0087ff; text-decoration-color: #0087ff\">Bidirectional</span>) │ (<span style=\"color: #00d7ff; text-decoration-color: #00d7ff\">None</span>, <span style=\"color: #00af00; text-decoration-color: #00af00\">128</span>)            │       <span style=\"color: #00af00; text-decoration-color: #00af00\">164,352</span> │\n",
       "├─────────────────────────────────┼────────────────────────┼───────────────┤\n",
       "│ dense (<span style=\"color: #0087ff; text-decoration-color: #0087ff\">Dense</span>)                   │ (<span style=\"color: #00d7ff; text-decoration-color: #00d7ff\">None</span>, <span style=\"color: #00af00; text-decoration-color: #00af00\">64</span>)             │         <span style=\"color: #00af00; text-decoration-color: #00af00\">8,256</span> │\n",
       "├─────────────────────────────────┼────────────────────────┼───────────────┤\n",
       "│ dropout (<span style=\"color: #0087ff; text-decoration-color: #0087ff\">Dropout</span>)               │ (<span style=\"color: #00d7ff; text-decoration-color: #00d7ff\">None</span>, <span style=\"color: #00af00; text-decoration-color: #00af00\">64</span>)             │             <span style=\"color: #00af00; text-decoration-color: #00af00\">0</span> │\n",
       "├─────────────────────────────────┼────────────────────────┼───────────────┤\n",
       "│ dense_1 (<span style=\"color: #0087ff; text-decoration-color: #0087ff\">Dense</span>)                 │ (<span style=\"color: #00d7ff; text-decoration-color: #00d7ff\">None</span>, <span style=\"color: #00af00; text-decoration-color: #00af00\">1</span>)              │            <span style=\"color: #00af00; text-decoration-color: #00af00\">65</span> │\n",
       "└─────────────────────────────────┴────────────────────────┴───────────────┘\n",
       "</pre>\n"
      ],
      "text/plain": [
       "┏━━━━━━━━━━━━━━━━━━━━━━━━━━━━━━━━━┳━━━━━━━━━━━━━━━━━━━━━━━━┳━━━━━━━━━━━━━━━┓\n",
       "┃\u001b[1m \u001b[0m\u001b[1mLayer (type)                   \u001b[0m\u001b[1m \u001b[0m┃\u001b[1m \u001b[0m\u001b[1mOutput Shape          \u001b[0m\u001b[1m \u001b[0m┃\u001b[1m \u001b[0m\u001b[1m      Param #\u001b[0m\u001b[1m \u001b[0m┃\n",
       "┡━━━━━━━━━━━━━━━━━━━━━━━━━━━━━━━━━╇━━━━━━━━━━━━━━━━━━━━━━━━╇━━━━━━━━━━━━━━━┩\n",
       "│ input_layer (\u001b[38;5;33mInputLayer\u001b[0m)        │ (\u001b[38;5;45mNone\u001b[0m, \u001b[38;5;34m100\u001b[0m)            │             \u001b[38;5;34m0\u001b[0m │\n",
       "├─────────────────────────────────┼────────────────────────┼───────────────┤\n",
       "│ embedding (\u001b[38;5;33mEmbedding\u001b[0m)           │ (\u001b[38;5;45mNone\u001b[0m, \u001b[38;5;34m100\u001b[0m, \u001b[38;5;34m100\u001b[0m)       │     \u001b[38;5;34m2,000,000\u001b[0m │\n",
       "├─────────────────────────────────┼────────────────────────┼───────────────┤\n",
       "│ bidirectional (\u001b[38;5;33mBidirectional\u001b[0m)   │ (\u001b[38;5;45mNone\u001b[0m, \u001b[38;5;34m100\u001b[0m, \u001b[38;5;34m256\u001b[0m)       │       \u001b[38;5;34m234,496\u001b[0m │\n",
       "├─────────────────────────────────┼────────────────────────┼───────────────┤\n",
       "│ bidirectional_1 (\u001b[38;5;33mBidirectional\u001b[0m) │ (\u001b[38;5;45mNone\u001b[0m, \u001b[38;5;34m128\u001b[0m)            │       \u001b[38;5;34m164,352\u001b[0m │\n",
       "├─────────────────────────────────┼────────────────────────┼───────────────┤\n",
       "│ dense (\u001b[38;5;33mDense\u001b[0m)                   │ (\u001b[38;5;45mNone\u001b[0m, \u001b[38;5;34m64\u001b[0m)             │         \u001b[38;5;34m8,256\u001b[0m │\n",
       "├─────────────────────────────────┼────────────────────────┼───────────────┤\n",
       "│ dropout (\u001b[38;5;33mDropout\u001b[0m)               │ (\u001b[38;5;45mNone\u001b[0m, \u001b[38;5;34m64\u001b[0m)             │             \u001b[38;5;34m0\u001b[0m │\n",
       "├─────────────────────────────────┼────────────────────────┼───────────────┤\n",
       "│ dense_1 (\u001b[38;5;33mDense\u001b[0m)                 │ (\u001b[38;5;45mNone\u001b[0m, \u001b[38;5;34m1\u001b[0m)              │            \u001b[38;5;34m65\u001b[0m │\n",
       "└─────────────────────────────────┴────────────────────────┴───────────────┘\n"
      ]
     },
     "metadata": {},
     "output_type": "display_data"
    },
    {
     "data": {
      "text/html": [
       "<pre style=\"white-space:pre;overflow-x:auto;line-height:normal;font-family:Menlo,'DejaVu Sans Mono',consolas,'Courier New',monospace\"><span style=\"font-weight: bold\"> Total params: </span><span style=\"color: #00af00; text-decoration-color: #00af00\">2,407,169</span> (9.18 MB)\n",
       "</pre>\n"
      ],
      "text/plain": [
       "\u001b[1m Total params: \u001b[0m\u001b[38;5;34m2,407,169\u001b[0m (9.18 MB)\n"
      ]
     },
     "metadata": {},
     "output_type": "display_data"
    },
    {
     "data": {
      "text/html": [
       "<pre style=\"white-space:pre;overflow-x:auto;line-height:normal;font-family:Menlo,'DejaVu Sans Mono',consolas,'Courier New',monospace\"><span style=\"font-weight: bold\"> Trainable params: </span><span style=\"color: #00af00; text-decoration-color: #00af00\">407,169</span> (1.55 MB)\n",
       "</pre>\n"
      ],
      "text/plain": [
       "\u001b[1m Trainable params: \u001b[0m\u001b[38;5;34m407,169\u001b[0m (1.55 MB)\n"
      ]
     },
     "metadata": {},
     "output_type": "display_data"
    },
    {
     "data": {
      "text/html": [
       "<pre style=\"white-space:pre;overflow-x:auto;line-height:normal;font-family:Menlo,'DejaVu Sans Mono',consolas,'Courier New',monospace\"><span style=\"font-weight: bold\"> Non-trainable params: </span><span style=\"color: #00af00; text-decoration-color: #00af00\">2,000,000</span> (7.63 MB)\n",
       "</pre>\n"
      ],
      "text/plain": [
       "\u001b[1m Non-trainable params: \u001b[0m\u001b[38;5;34m2,000,000\u001b[0m (7.63 MB)\n"
      ]
     },
     "metadata": {},
     "output_type": "display_data"
    }
   ],
   "source": [
    "# ==============================================================================\n",
    "# 6. BUILD THE DEEP LEARNING MODEL\n",
    "# ==============================================================================\n",
    "print(\"\\nBuilding the model...\")\n",
    "\n",
    "# Input layer\n",
    "input_layer = Input(shape=(MAX_SEQUENCE_LENGTH,), dtype='int32')\n",
    "\n",
    "# Embedding layer\n",
    "# We use our pre-trained GloVe embeddings and make them non-trainable\n",
    "embedding_layer = Embedding(\n",
    "    num_words,\n",
    "    EMBEDDING_DIM,\n",
    "    weights=[embedding_matrix],\n",
    "    input_length=MAX_SEQUENCE_LENGTH,\n",
    "    trainable=False\n",
    ")(input_layer)\n",
    "\n",
    "# Bidirectional LSTM layer\n",
    "# This helps the model learn from the sequence in both forward and backward directions\n",
    "lstm_layer = Bidirectional(LSTM(128, return_sequences=True))(embedding_layer)\n",
    "lstm_layer = Bidirectional(LSTM(64))(lstm_layer) # Another layer for more complexity\n",
    "\n",
    "# Dense layers for classification\n",
    "dense_layer = Dense(64, activation='relu')(lstm_layer)\n",
    "dense_layer = Dropout(0.5)(dense_layer) # Dropout for regularization\n",
    "output_layer = Dense(1, activation='sigmoid')(dense_layer)\n",
    "\n",
    "# Define the model\n",
    "model = Model(inputs=input_layer, outputs=output_layer)\n",
    "\n",
    "# Compile the model\n",
    "model.compile(\n",
    "    loss='binary_crossentropy',\n",
    "    optimizer='adam',\n",
    "    metrics=['accuracy']\n",
    ")\n",
    "\n",
    "# Print model summary\n",
    "model.summary()\n",
    "\n"
   ]
  },
  {
   "cell_type": "code",
   "execution_count": 12,
   "metadata": {
    "colab": {
     "base_uri": "https://localhost:8080/"
    },
    "executionInfo": {
     "elapsed": 1201765,
     "status": "ok",
     "timestamp": 1750799268502,
     "user": {
      "displayName": "Athi SHUNMUGAM",
      "userId": "07971767029142392915"
     },
     "user_tz": -330
    },
    "id": "Pp9atC9QrOXs",
    "outputId": "60fcfa39-5326-42b1-b301-4e379fe69cc5"
   },
   "outputs": [
    {
     "name": "stdout",
     "output_type": "stream",
     "text": [
      "\n",
      "Training the model...\n",
      "Epoch 1/10\n",
      "\u001b[1m4082/4082\u001b[0m \u001b[32m━━━━━━━━━━━━━━━━━━━━\u001b[0m\u001b[37m\u001b[0m \u001b[1m199s\u001b[0m 47ms/step - accuracy: 0.9463 - loss: 0.1494 - val_accuracy: 0.9544 - val_loss: 0.1186\n",
      "Epoch 2/10\n",
      "\u001b[1m4082/4082\u001b[0m \u001b[32m━━━━━━━━━━━━━━━━━━━━\u001b[0m\u001b[37m\u001b[0m \u001b[1m197s\u001b[0m 48ms/step - accuracy: 0.9553 - loss: 0.1158 - val_accuracy: 0.9564 - val_loss: 0.1100\n",
      "Epoch 3/10\n",
      "\u001b[1m4082/4082\u001b[0m \u001b[32m━━━━━━━━━━━━━━━━━━━━\u001b[0m\u001b[37m\u001b[0m \u001b[1m200s\u001b[0m 48ms/step - accuracy: 0.9579 - loss: 0.1081 - val_accuracy: 0.9581 - val_loss: 0.1072\n",
      "Epoch 4/10\n",
      "\u001b[1m4082/4082\u001b[0m \u001b[32m━━━━━━━━━━━━━━━━━━━━\u001b[0m\u001b[37m\u001b[0m \u001b[1m196s\u001b[0m 48ms/step - accuracy: 0.9598 - loss: 0.1027 - val_accuracy: 0.9584 - val_loss: 0.1069\n",
      "Epoch 5/10\n",
      "\u001b[1m4082/4082\u001b[0m \u001b[32m━━━━━━━━━━━━━━━━━━━━\u001b[0m\u001b[37m\u001b[0m \u001b[1m203s\u001b[0m 48ms/step - accuracy: 0.9613 - loss: 0.0971 - val_accuracy: 0.9584 - val_loss: 0.1076\n",
      "Epoch 6/10\n",
      "\u001b[1m4082/4082\u001b[0m \u001b[32m━━━━━━━━━━━━━━━━━━━━\u001b[0m\u001b[37m\u001b[0m \u001b[1m202s\u001b[0m 48ms/step - accuracy: 0.9635 - loss: 0.0912 - val_accuracy: 0.9568 - val_loss: 0.1101\n"
     ]
    }
   ],
   "source": [
    "# ==============================================================================\n",
    "# 7. TRAIN THE MODEL\n",
    "# ==============================================================================\n",
    "print(\"\\nTraining the model...\")\n",
    "\n",
    "# Use EarlyStopping to prevent overfitting\n",
    "early_stopping = EarlyStopping(\n",
    "    monitor='val_loss',\n",
    "    patience=2,\n",
    "    restore_best_weights=True\n",
    ")\n",
    "\n",
    "history = model.fit(\n",
    "    X_train,\n",
    "    y_train,\n",
    "    batch_size=BATCH_SIZE,\n",
    "    epochs=EPOCHS,\n",
    "    validation_data=(X_val, y_val),\n",
    "    callbacks=[early_stopping]\n",
    ")\n",
    "\n"
   ]
  },
  {
   "cell_type": "code",
   "execution_count": 13,
   "metadata": {
    "colab": {
     "base_uri": "https://localhost:8080/",
     "height": 1000
    },
    "executionInfo": {
     "elapsed": 67368,
     "status": "ok",
     "timestamp": 1750799439893,
     "user": {
      "displayName": "Athi SHUNMUGAM",
      "userId": "07971767029142392915"
     },
     "user_tz": -330
    },
    "id": "2FJBXMQnrRFC",
    "outputId": "f3f73240-dfda-427f-f39a-13722e8d5ef8"
   },
   "outputs": [
    {
     "name": "stdout",
     "output_type": "stream",
     "text": [
      "\n",
      "Evaluating the model on the validation set...\n",
      "\u001b[1m8164/8164\u001b[0m \u001b[32m━━━━━━━━━━━━━━━━━━━━\u001b[0m\u001b[37m\u001b[0m \u001b[1m61s\u001b[0m 7ms/step\n",
      "\n",
      "Validation Accuracy: 0.9584\n",
      "\n",
      "Classification Report:\n",
      "               precision    recall  f1-score   support\n",
      "\n",
      "  Sincere (0)       0.97      0.98      0.98    245063\n",
      "Insincere (1)       0.69      0.60      0.64     16162\n",
      "\n",
      "     accuracy                           0.96    261225\n",
      "    macro avg       0.83      0.79      0.81    261225\n",
      " weighted avg       0.96      0.96      0.96    261225\n",
      "\n"
     ]
    },
    {
     "data": {
      "image/png": "[encoded data removed]",
      "text/plain": [
       "<Figure size 800x600 with 2 Axes>"
      ]
     },
     "metadata": {},
     "output_type": "display_data"
    },
    {
     "data": {
      "image/png": "[encoded data removed]",
      "text/plain": [
       "<Figure size 1200x500 with 2 Axes>"
      ]
     },
     "metadata": {},
     "output_type": "display_data"
    }
   ],
   "source": [
    "# ==============================================================================\n",
    "# 8. EVALUATE THE MODEL\n",
    "# ==============================================================================\n",
    "print(\"\\nEvaluating the model on the validation set...\")\n",
    "\n",
    "# Get predictions (as probabilities)\n",
    "y_pred_prob = model.predict(X_val)\n",
    "# Convert probabilities to binary classes (0 or 1)\n",
    "y_pred = (y_pred_prob > 0.5).astype(int)\n",
    "\n",
    "# Calculate and print metrics\n",
    "accuracy = accuracy_score(y_val, y_pred)\n",
    "print(f\"\\nValidation Accuracy: {accuracy:.4f}\")\n",
    "\n",
    "print(\"\\nClassification Report:\")\n",
    "print(classification_report(y_val, y_pred, target_names=['Sincere (0)', 'Insincere (1)']))\n",
    "\n",
    "# Plot confusion matrix\n",
    "cm = confusion_matrix(y_val, y_pred)\n",
    "plt.figure(figsize=(8, 6))\n",
    "sns.heatmap(cm, annot=True, fmt='d', cmap='Blues',\n",
    "            xticklabels=['Sincere', 'Insincere'],\n",
    "            yticklabels=['Sincere', 'Insincere'])\n",
    "plt.xlabel('Predicted Label')\n",
    "plt.ylabel('True Label')\n",
    "plt.title('Confusion Matrix')\n",
    "plt.show()\n",
    "\n",
    "# Plot training history\n",
    "def plot_history(history):\n",
    "    # Plot accuracy\n",
    "    plt.figure(figsize=(12, 5))\n",
    "    plt.subplot(1, 2, 1)\n",
    "    plt.plot(history.history['accuracy'], label='Training Accuracy')\n",
    "    plt.plot(history.history['val_accuracy'], label='Validation Accuracy')\n",
    "    plt.title('Training and Validation Accuracy')\n",
    "    plt.xlabel('Epochs')\n",
    "    plt.ylabel('Accuracy')\n",
    "    plt.legend()\n",
    "\n",
    "    # Plot loss\n",
    "    plt.subplot(1, 2, 2)\n",
    "    plt.plot(history.history['loss'], label='Training Loss')\n",
    "    plt.plot(history.history['val_loss'], label='Validation Loss')\n",
    "    plt.title('Training and Validation Loss')\n",
    "    plt.xlabel('Epochs')\n",
    "    plt.ylabel('Loss')\n",
    "    plt.legend()\n",
    "    plt.tight_layout()\n",
    "    plt.show()\n",
    "\n",
    "plot_history(history)\n",
    "\n"
   ]
  },
  {
   "cell_type": "code",
   "execution_count": 24,
   "metadata": {
    "colab": {
     "base_uri": "https://localhost:8080/"
    },
    "executionInfo": {
     "elapsed": 434,
     "status": "ok",
     "timestamp": 1750800630875,
     "user": {
      "displayName": "Athi SHUNMUGAM",
      "userId": "07971767029142392915"
     },
     "user_tz": -330
    },
    "id": "BNsCCMHSrSxf",
    "outputId": "f962c8f2-6113-42a6-d276-9b3dd060dcc2"
   },
   "outputs": [
    {
     "name": "stdout",
     "output_type": "stream",
     "text": [
      "\n",
      "--- Testing with new questions ---\n",
      "Question: 'What is the best way to learn Python for data science?'\n",
      "Prediction: Sincere - Confidence: 100.00%\n",
      "--------------------\n",
      "Question: 'How macro economic conditions affect micro economics?'\n",
      "Prediction: Sincere - Confidence: 100.00%\n",
      "--------------------\n",
      "Question: 'Why are all politicians liars and how can we stop them?'\n",
      "Prediction: Insincere (Spam) - Confidence: 73.30%\n",
      "--------------------\n",
      "Question: 'What are the best arguments to prove that the Earth is flat and that NASA is lying to everyone?'\n",
      "Prediction: Insincere (Spam) - Confidence: 56.85%\n"
     ]
    }
   ],
   "source": [
    "# ==============================================================================\n",
    "# 9. INFERENCE ON NEW QUESTIONS\n",
    "# ==============================================================================\n",
    "def predict_insincerity(question, model, tokenizer, max_len):\n",
    "    \"\"\"Predicts if a single question is insincere.\"\"\"\n",
    "    # Preprocess the new question\n",
    "    cleaned_question = clean_text(question)\n",
    "    sequence = tokenizer.texts_to_sequences([cleaned_question])\n",
    "    padded_sequence = pad_sequences(sequence, maxlen=max_len)\n",
    "\n",
    "    # Make a prediction\n",
    "    prediction = model.predict(padded_sequence, verbose=0)[0][0]\n",
    "\n",
    "    # Interpret the result\n",
    "    if prediction > 0.5:\n",
    "        return f\"Insincere (Spam) - Confidence: {prediction:.2%}\"\n",
    "    else:\n",
    "        return f\"Sincere - Confidence: {1-prediction:.2%}\"\n",
    "\n",
    "# Example usage\n",
    "print(\"\\n--- Testing with new questions ---\")\n",
    "sincere_question = \"What is the best way to learn Python for data science?\"\n",
    "sincere_question2 = \"How macro economic conditions affect micro economics?\"\n",
    "insincere_question = \"Why are all politicians liars and how can we stop them?\"\n",
    "insincere_question2 = \"What are the best arguments to prove that the Earth is flat and that NASA is lying to everyone?\"\n",
    "\n",
    "print(f\"Question: '{sincere_question}'\")\n",
    "print(f\"Prediction: {predict_insincerity(sincere_question, model, tokenizer, MAX_SEQUENCE_LENGTH)}\")\n",
    "print(\"-\" * 20)\n",
    "print(f\"Question: '{sincere_question2}'\")\n",
    "print(f\"Prediction: {predict_insincerity(sincere_question2, model, tokenizer, MAX_SEQUENCE_LENGTH)}\")\n",
    "print(\"-\" * 20)\n",
    "print(f\"Question: '{insincere_question}'\")\n",
    "print(f\"Prediction: {predict_insincerity(insincere_question, model, tokenizer, MAX_SEQUENCE_LENGTH)}\")\n",
    "print(\"-\" * 20)\n",
    "print(f\"Question: '{insincere_question2}'\")\n",
    "print(f\"Prediction: {predict_insincerity(insincere_question2, model, tokenizer, MAX_SEQUENCE_LENGTH)}\")\n"
   ]
  },
  {
   "cell_type": "markdown",
   "metadata": {
    "id": "cfc09750"
   },
   "source": [
    "The previous cell failed to mount Google Drive. Let's try mounting it again in this cell. If this cell also fails, please ensure you are logged into your Google account and have granted Colab the necessary permissions to access your Google Drive."
   ]
  },
  {
   "cell_type": "code",
   "execution_count": null,
   "metadata": {
    "id": "2d0e2d01"
   },
   "outputs": [],
   "source": [
    "from google.colab import drive\n",
    "drive.mount('/content/drive')"
   ]
  }
 ],
 "metadata": {
  "accelerator": "GPU",
  "colab": {
   "authorship_tag": "ABX9TyPYGQcvIz0ms/GwmbjYP+Bu",
   "gpuType": "T4",
   "mount_file_id": "1-OdVPgy5D8CihugKS-UfgAKxRPSlCn0V",
   "provenance": []
  },
  "kernelspec": {
   "display_name": "Python 3",
   "name": "python3"
  },
  "language_info": {
   "name": "python"
  }
 },
 "nbformat": 4,
 "nbformat_minor": 0
}
